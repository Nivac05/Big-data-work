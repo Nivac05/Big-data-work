{
  "nbformat": 4,
  "nbformat_minor": 0,
  "metadata": {
    "colab": {
      "provenance": []
    },
    "kernelspec": {
      "name": "python3",
      "display_name": "Python 3"
    },
    "language_info": {
      "name": "python"
    }
  },
  "cells": [
    {
      "cell_type": "code",
      "execution_count": null,
      "metadata": {
        "id": "-vxhQmcZD7Um"
      },
      "outputs": [],
      "source": []
    },
    {
      "cell_type": "code",
      "metadata": {
        "colab": {
          "base_uri": "https://localhost:8080/"
        },
        "id": "9597b2a8",
        "outputId": "2a9e5f2d-c730-4b53-b872-a537f94f2578"
      },
      "source": [
        "!apt-get update\n",
        "!apt-get install openjdk-8-jdk -y"
      ],
      "execution_count": null,
      "outputs": [
        {
          "output_type": "stream",
          "name": "stdout",
          "text": [
            "\r0% [Working]\r            \rGet:1 http://security.ubuntu.com/ubuntu jammy-security InRelease [129 kB]\n",
            "\r0% [Connecting to archive.ubuntu.com (185.125.190.83)] [1 InRelease 1,140 B/129\r                                                                               \rGet:2 https://cloud.r-project.org/bin/linux/ubuntu jammy-cran40/ InRelease [3,632 B]\n",
            "Hit:3 https://developer.download.nvidia.com/compute/cuda/repos/ubuntu2204/x86_64  InRelease\n",
            "Hit:4 http://archive.ubuntu.com/ubuntu jammy InRelease\n",
            "Get:5 https://r2u.stat.illinois.edu/ubuntu jammy InRelease [6,555 B]\n",
            "Get:6 http://archive.ubuntu.com/ubuntu jammy-updates InRelease [128 kB]\n",
            "Get:7 https://ppa.launchpadcontent.net/deadsnakes/ppa/ubuntu jammy InRelease [18.1 kB]\n",
            "Get:8 http://security.ubuntu.com/ubuntu jammy-security/universe amd64 Packages [1,266 kB]\n",
            "Hit:9 https://ppa.launchpadcontent.net/graphics-drivers/ppa/ubuntu jammy InRelease\n",
            "Get:10 http://archive.ubuntu.com/ubuntu jammy-backports InRelease [127 kB]\n",
            "Get:11 http://security.ubuntu.com/ubuntu jammy-security/restricted amd64 Packages [4,795 kB]\n",
            "Hit:12 https://ppa.launchpadcontent.net/ubuntugis/ppa/ubuntu jammy InRelease\n",
            "Get:13 http://security.ubuntu.com/ubuntu jammy-security/main amd64 Packages [3,103 kB]\n",
            "Get:14 https://r2u.stat.illinois.edu/ubuntu jammy/main all Packages [9,087 kB]\n",
            "Get:15 https://ppa.launchpadcontent.net/deadsnakes/ppa/ubuntu jammy/main amd64 Packages [32.9 kB]\n",
            "Get:16 https://r2u.stat.illinois.edu/ubuntu jammy/main amd64 Packages [2,758 kB]\n",
            "Get:17 http://archive.ubuntu.com/ubuntu jammy-updates/universe amd64 Packages [1,569 kB]\n",
            "Get:18 http://archive.ubuntu.com/ubuntu jammy-updates/main amd64 Packages [3,415 kB]\n",
            "Get:19 http://archive.ubuntu.com/ubuntu jammy-backports/universe amd64 Packages [35.2 kB]\n",
            "Get:20 http://archive.ubuntu.com/ubuntu jammy-backports/main amd64 Packages [83.2 kB]\n",
            "Fetched 26.6 MB in 5s (5,043 kB/s)\n",
            "Reading package lists... Done\n",
            "W: Skipping acquire of configured file 'main/source/Sources' as repository 'https://r2u.stat.illinois.edu/ubuntu jammy InRelease' does not seem to provide it (sources.list entry misspelt?)\n",
            "Reading package lists... Done\n",
            "Building dependency tree... Done\n",
            "Reading state information... Done\n",
            "The following additional packages will be installed:\n",
            "  fonts-dejavu-core fonts-dejavu-extra libatk-wrapper-java\n",
            "  libatk-wrapper-java-jni libgail-common libgail18 libgtk2.0-0 libgtk2.0-bin\n",
            "  libgtk2.0-common librsvg2-common libxt-dev libxtst6 libxxf86dga1\n",
            "  openjdk-8-jdk-headless openjdk-8-jre openjdk-8-jre-headless x11-utils\n",
            "Suggested packages:\n",
            "  gvfs libxt-doc openjdk-8-demo openjdk-8-source visualvm libnss-mdns\n",
            "  fonts-nanum fonts-ipafont-gothic fonts-ipafont-mincho fonts-wqy-microhei\n",
            "  fonts-wqy-zenhei fonts-indic mesa-utils\n",
            "The following NEW packages will be installed:\n",
            "  fonts-dejavu-core fonts-dejavu-extra libatk-wrapper-java\n",
            "  libatk-wrapper-java-jni libgail-common libgail18 libgtk2.0-0 libgtk2.0-bin\n",
            "  libgtk2.0-common librsvg2-common libxt-dev libxtst6 libxxf86dga1\n",
            "  openjdk-8-jdk openjdk-8-jdk-headless openjdk-8-jre openjdk-8-jre-headless\n",
            "  x11-utils\n",
            "0 upgraded, 18 newly installed, 0 to remove and 41 not upgraded.\n",
            "Need to get 49.9 MB of archives.\n",
            "After this operation, 169 MB of additional disk space will be used.\n",
            "Get:1 http://archive.ubuntu.com/ubuntu jammy/main amd64 fonts-dejavu-core all 2.37-2build1 [1,041 kB]\n",
            "Get:2 http://archive.ubuntu.com/ubuntu jammy/main amd64 fonts-dejavu-extra all 2.37-2build1 [2,041 kB]\n",
            "Get:3 http://archive.ubuntu.com/ubuntu jammy/main amd64 libxtst6 amd64 2:1.2.3-1build4 [13.4 kB]\n",
            "Get:4 http://archive.ubuntu.com/ubuntu jammy/main amd64 libxxf86dga1 amd64 2:1.1.5-0ubuntu3 [12.6 kB]\n",
            "Get:5 http://archive.ubuntu.com/ubuntu jammy/main amd64 x11-utils amd64 7.7+5build2 [206 kB]\n",
            "Get:6 http://archive.ubuntu.com/ubuntu jammy/main amd64 libatk-wrapper-java all 0.38.0-5build1 [53.1 kB]\n",
            "Get:7 http://archive.ubuntu.com/ubuntu jammy/main amd64 libatk-wrapper-java-jni amd64 0.38.0-5build1 [49.0 kB]\n",
            "Get:8 http://archive.ubuntu.com/ubuntu jammy-updates/main amd64 libgtk2.0-common all 2.24.33-2ubuntu2.1 [125 kB]\n",
            "Get:9 http://archive.ubuntu.com/ubuntu jammy-updates/main amd64 libgtk2.0-0 amd64 2.24.33-2ubuntu2.1 [2,038 kB]\n",
            "Get:10 http://archive.ubuntu.com/ubuntu jammy-updates/main amd64 libgail18 amd64 2.24.33-2ubuntu2.1 [15.9 kB]\n",
            "Get:11 http://archive.ubuntu.com/ubuntu jammy-updates/main amd64 libgail-common amd64 2.24.33-2ubuntu2.1 [132 kB]\n",
            "Get:12 http://archive.ubuntu.com/ubuntu jammy-updates/main amd64 libgtk2.0-bin amd64 2.24.33-2ubuntu2.1 [7,936 B]\n",
            "Get:13 http://archive.ubuntu.com/ubuntu jammy-updates/main amd64 librsvg2-common amd64 2.52.5+dfsg-3ubuntu0.2 [17.7 kB]\n",
            "Get:14 http://archive.ubuntu.com/ubuntu jammy/main amd64 libxt-dev amd64 1:1.2.1-1 [396 kB]\n",
            "Get:15 http://archive.ubuntu.com/ubuntu jammy-updates/universe amd64 openjdk-8-jre-headless amd64 8u452-ga~us1-0ubuntu1~22.04 [30.8 MB]\n",
            "Get:16 http://archive.ubuntu.com/ubuntu jammy-updates/universe amd64 openjdk-8-jre amd64 8u452-ga~us1-0ubuntu1~22.04 [75.3 kB]\n",
            "Get:17 http://archive.ubuntu.com/ubuntu jammy-updates/universe amd64 openjdk-8-jdk-headless amd64 8u452-ga~us1-0ubuntu1~22.04 [8,878 kB]\n",
            "Get:18 http://archive.ubuntu.com/ubuntu jammy-updates/universe amd64 openjdk-8-jdk amd64 8u452-ga~us1-0ubuntu1~22.04 [4,039 kB]\n",
            "Fetched 49.9 MB in 1s (48.8 MB/s)\n",
            "Selecting previously unselected package fonts-dejavu-core.\n",
            "(Reading database ... 126281 files and directories currently installed.)\n",
            "Preparing to unpack .../00-fonts-dejavu-core_2.37-2build1_all.deb ...\n",
            "Unpacking fonts-dejavu-core (2.37-2build1) ...\n",
            "Selecting previously unselected package fonts-dejavu-extra.\n",
            "Preparing to unpack .../01-fonts-dejavu-extra_2.37-2build1_all.deb ...\n",
            "Unpacking fonts-dejavu-extra (2.37-2build1) ...\n",
            "Selecting previously unselected package libxtst6:amd64.\n",
            "Preparing to unpack .../02-libxtst6_2%3a1.2.3-1build4_amd64.deb ...\n",
            "Unpacking libxtst6:amd64 (2:1.2.3-1build4) ...\n",
            "Selecting previously unselected package libxxf86dga1:amd64.\n",
            "Preparing to unpack .../03-libxxf86dga1_2%3a1.1.5-0ubuntu3_amd64.deb ...\n",
            "Unpacking libxxf86dga1:amd64 (2:1.1.5-0ubuntu3) ...\n",
            "Selecting previously unselected package x11-utils.\n",
            "Preparing to unpack .../04-x11-utils_7.7+5build2_amd64.deb ...\n",
            "Unpacking x11-utils (7.7+5build2) ...\n",
            "Selecting previously unselected package libatk-wrapper-java.\n",
            "Preparing to unpack .../05-libatk-wrapper-java_0.38.0-5build1_all.deb ...\n",
            "Unpacking libatk-wrapper-java (0.38.0-5build1) ...\n",
            "Selecting previously unselected package libatk-wrapper-java-jni:amd64.\n",
            "Preparing to unpack .../06-libatk-wrapper-java-jni_0.38.0-5build1_amd64.deb ...\n",
            "Unpacking libatk-wrapper-java-jni:amd64 (0.38.0-5build1) ...\n",
            "Selecting previously unselected package libgtk2.0-common.\n",
            "Preparing to unpack .../07-libgtk2.0-common_2.24.33-2ubuntu2.1_all.deb ...\n",
            "Unpacking libgtk2.0-common (2.24.33-2ubuntu2.1) ...\n",
            "Selecting previously unselected package libgtk2.0-0:amd64.\n",
            "Preparing to unpack .../08-libgtk2.0-0_2.24.33-2ubuntu2.1_amd64.deb ...\n",
            "Unpacking libgtk2.0-0:amd64 (2.24.33-2ubuntu2.1) ...\n",
            "Selecting previously unselected package libgail18:amd64.\n",
            "Preparing to unpack .../09-libgail18_2.24.33-2ubuntu2.1_amd64.deb ...\n",
            "Unpacking libgail18:amd64 (2.24.33-2ubuntu2.1) ...\n",
            "Selecting previously unselected package libgail-common:amd64.\n",
            "Preparing to unpack .../10-libgail-common_2.24.33-2ubuntu2.1_amd64.deb ...\n",
            "Unpacking libgail-common:amd64 (2.24.33-2ubuntu2.1) ...\n",
            "Selecting previously unselected package libgtk2.0-bin.\n",
            "Preparing to unpack .../11-libgtk2.0-bin_2.24.33-2ubuntu2.1_amd64.deb ...\n",
            "Unpacking libgtk2.0-bin (2.24.33-2ubuntu2.1) ...\n",
            "Selecting previously unselected package librsvg2-common:amd64.\n",
            "Preparing to unpack .../12-librsvg2-common_2.52.5+dfsg-3ubuntu0.2_amd64.deb ...\n",
            "Unpacking librsvg2-common:amd64 (2.52.5+dfsg-3ubuntu0.2) ...\n",
            "Selecting previously unselected package libxt-dev:amd64.\n",
            "Preparing to unpack .../13-libxt-dev_1%3a1.2.1-1_amd64.deb ...\n",
            "Unpacking libxt-dev:amd64 (1:1.2.1-1) ...\n",
            "Selecting previously unselected package openjdk-8-jre-headless:amd64.\n",
            "Preparing to unpack .../14-openjdk-8-jre-headless_8u452-ga~us1-0ubuntu1~22.04_amd64.deb ...\n",
            "Unpacking openjdk-8-jre-headless:amd64 (8u452-ga~us1-0ubuntu1~22.04) ...\n",
            "Selecting previously unselected package openjdk-8-jre:amd64.\n",
            "Preparing to unpack .../15-openjdk-8-jre_8u452-ga~us1-0ubuntu1~22.04_amd64.deb ...\n",
            "Unpacking openjdk-8-jre:amd64 (8u452-ga~us1-0ubuntu1~22.04) ...\n",
            "Selecting previously unselected package openjdk-8-jdk-headless:amd64.\n",
            "Preparing to unpack .../16-openjdk-8-jdk-headless_8u452-ga~us1-0ubuntu1~22.04_amd64.deb ...\n",
            "Unpacking openjdk-8-jdk-headless:amd64 (8u452-ga~us1-0ubuntu1~22.04) ...\n",
            "Selecting previously unselected package openjdk-8-jdk:amd64.\n",
            "Preparing to unpack .../17-openjdk-8-jdk_8u452-ga~us1-0ubuntu1~22.04_amd64.deb ...\n",
            "Unpacking openjdk-8-jdk:amd64 (8u452-ga~us1-0ubuntu1~22.04) ...\n",
            "Setting up libxtst6:amd64 (2:1.2.3-1build4) ...\n",
            "Setting up libxxf86dga1:amd64 (2:1.1.5-0ubuntu3) ...\n",
            "Setting up libxt-dev:amd64 (1:1.2.1-1) ...\n",
            "Setting up openjdk-8-jre-headless:amd64 (8u452-ga~us1-0ubuntu1~22.04) ...\n",
            "update-alternatives: using /usr/lib/jvm/java-8-openjdk-amd64/jre/bin/orbd to provide /usr/bin/orbd (orbd) in auto mode\n",
            "update-alternatives: using /usr/lib/jvm/java-8-openjdk-amd64/jre/bin/servertool to provide /usr/bin/servertool (servertool) in auto mode\n",
            "update-alternatives: using /usr/lib/jvm/java-8-openjdk-amd64/jre/bin/tnameserv to provide /usr/bin/tnameserv (tnameserv) in auto mode\n",
            "Setting up fonts-dejavu-core (2.37-2build1) ...\n",
            "Setting up librsvg2-common:amd64 (2.52.5+dfsg-3ubuntu0.2) ...\n",
            "Setting up fonts-dejavu-extra (2.37-2build1) ...\n",
            "Setting up x11-utils (7.7+5build2) ...\n",
            "Setting up libgtk2.0-common (2.24.33-2ubuntu2.1) ...\n",
            "Setting up libatk-wrapper-java (0.38.0-5build1) ...\n",
            "Setting up libgtk2.0-0:amd64 (2.24.33-2ubuntu2.1) ...\n",
            "Setting up libatk-wrapper-java-jni:amd64 (0.38.0-5build1) ...\n",
            "Setting up openjdk-8-jdk-headless:amd64 (8u452-ga~us1-0ubuntu1~22.04) ...\n",
            "update-alternatives: using /usr/lib/jvm/java-8-openjdk-amd64/bin/clhsdb to provide /usr/bin/clhsdb (clhsdb) in auto mode\n",
            "update-alternatives: using /usr/lib/jvm/java-8-openjdk-amd64/bin/extcheck to provide /usr/bin/extcheck (extcheck) in auto mode\n",
            "update-alternatives: using /usr/lib/jvm/java-8-openjdk-amd64/bin/hsdb to provide /usr/bin/hsdb (hsdb) in auto mode\n",
            "update-alternatives: using /usr/lib/jvm/java-8-openjdk-amd64/bin/idlj to provide /usr/bin/idlj (idlj) in auto mode\n",
            "update-alternatives: using /usr/lib/jvm/java-8-openjdk-amd64/bin/javah to provide /usr/bin/javah (javah) in auto mode\n",
            "update-alternatives: using /usr/lib/jvm/java-8-openjdk-amd64/bin/jhat to provide /usr/bin/jhat (jhat) in auto mode\n",
            "update-alternatives: using /usr/lib/jvm/java-8-openjdk-amd64/bin/jsadebugd to provide /usr/bin/jsadebugd (jsadebugd) in auto mode\n",
            "update-alternatives: using /usr/lib/jvm/java-8-openjdk-amd64/bin/native2ascii to provide /usr/bin/native2ascii (native2ascii) in auto mode\n",
            "update-alternatives: using /usr/lib/jvm/java-8-openjdk-amd64/bin/schemagen to provide /usr/bin/schemagen (schemagen) in auto mode\n",
            "update-alternatives: using /usr/lib/jvm/java-8-openjdk-amd64/bin/wsgen to provide /usr/bin/wsgen (wsgen) in auto mode\n",
            "update-alternatives: using /usr/lib/jvm/java-8-openjdk-amd64/bin/wsimport to provide /usr/bin/wsimport (wsimport) in auto mode\n",
            "update-alternatives: using /usr/lib/jvm/java-8-openjdk-amd64/bin/xjc to provide /usr/bin/xjc (xjc) in auto mode\n",
            "Setting up libgail18:amd64 (2.24.33-2ubuntu2.1) ...\n",
            "Setting up libgtk2.0-bin (2.24.33-2ubuntu2.1) ...\n",
            "Setting up libgail-common:amd64 (2.24.33-2ubuntu2.1) ...\n",
            "Setting up openjdk-8-jre:amd64 (8u452-ga~us1-0ubuntu1~22.04) ...\n",
            "update-alternatives: using /usr/lib/jvm/java-8-openjdk-amd64/jre/bin/policytool to provide /usr/bin/policytool (policytool) in auto mode\n",
            "Setting up openjdk-8-jdk:amd64 (8u452-ga~us1-0ubuntu1~22.04) ...\n",
            "update-alternatives: using /usr/lib/jvm/java-8-openjdk-amd64/bin/appletviewer to provide /usr/bin/appletviewer (appletviewer) in auto mode\n",
            "update-alternatives: using /usr/lib/jvm/java-8-openjdk-amd64/bin/jconsole to provide /usr/bin/jconsole (jconsole) in auto mode\n",
            "Processing triggers for fontconfig (2.13.1-4.2ubuntu5) ...\n",
            "Processing triggers for hicolor-icon-theme (0.17-2) ...\n",
            "Processing triggers for libc-bin (2.35-0ubuntu3.8) ...\n",
            "/sbin/ldconfig.real: /usr/local/lib/libur_adapter_opencl.so.0 is not a symbolic link\n",
            "\n",
            "/sbin/ldconfig.real: /usr/local/lib/libtbbbind.so.3 is not a symbolic link\n",
            "\n",
            "/sbin/ldconfig.real: /usr/local/lib/libtbbbind_2_0.so.3 is not a symbolic link\n",
            "\n",
            "/sbin/ldconfig.real: /usr/local/lib/libur_adapter_level_zero_v2.so.0 is not a symbolic link\n",
            "\n",
            "/sbin/ldconfig.real: /usr/local/lib/libtcm_debug.so.1 is not a symbolic link\n",
            "\n",
            "/sbin/ldconfig.real: /usr/local/lib/libtbbmalloc_proxy.so.2 is not a symbolic link\n",
            "\n",
            "/sbin/ldconfig.real: /usr/local/lib/libumf.so.0 is not a symbolic link\n",
            "\n",
            "/sbin/ldconfig.real: /usr/local/lib/libhwloc.so.15 is not a symbolic link\n",
            "\n",
            "/sbin/ldconfig.real: /usr/local/lib/libtbbbind_2_5.so.3 is not a symbolic link\n",
            "\n",
            "/sbin/ldconfig.real: /usr/local/lib/libtcm.so.1 is not a symbolic link\n",
            "\n",
            "/sbin/ldconfig.real: /usr/local/lib/libtbbmalloc.so.2 is not a symbolic link\n",
            "\n",
            "/sbin/ldconfig.real: /usr/local/lib/libur_loader.so.0 is not a symbolic link\n",
            "\n",
            "/sbin/ldconfig.real: /usr/local/lib/libur_adapter_level_zero.so.0 is not a symbolic link\n",
            "\n",
            "/sbin/ldconfig.real: /usr/local/lib/libtbb.so.12 is not a symbolic link\n",
            "\n",
            "Processing triggers for man-db (2.10.2-1) ...\n",
            "Processing triggers for libgdk-pixbuf-2.0-0:amd64 (2.42.8+dfsg-1ubuntu0.3) ...\n",
            "Processing triggers for mailcap (3.70+nmu1ubuntu1) ...\n"
          ]
        }
      ]
    },
    {
      "cell_type": "code",
      "source": [
        "# Make sure Java is installed\n",
        "!apt-get install openjdk-11-jdk-headless -qq > /dev/null\n",
        "!java -version\n",
        "\n",
        "# Set environment variables\n",
        "import os\n",
        "\n",
        "os.environ[\"JAVA_HOME\"] = \"/usr/lib/jvm/java-11-openjdk-amd64\"\n",
        "os.environ[\"HADOOP_HOME\"] = \"/content/hadoop-3.3.6\"\n",
        "os.environ[\"HADOOP_INSTALL\"] = \"/content/hadoop-3.3.6\"\n",
        "os.environ[\"HADOOP_PREFIX\"] = \"/content/hadoop-3.3.6\"\n",
        "os.environ[\"PATH\"] += \":/content/hadoop-3.3.6/bin:/content/hadoop-3.3.6/sbin\"\n"
      ],
      "metadata": {
        "colab": {
          "base_uri": "https://localhost:8080/"
        },
        "id": "XA6q146PFkPt",
        "outputId": "b4777c85-44d1-4af8-fba9-64ad3ce1c950"
      },
      "execution_count": null,
      "outputs": [
        {
          "output_type": "stream",
          "name": "stdout",
          "text": [
            "openjdk version \"11.0.27\" 2025-04-15\n",
            "OpenJDK Runtime Environment (build 11.0.27+6-post-Ubuntu-0ubuntu122.04)\n",
            "OpenJDK 64-Bit Server VM (build 11.0.27+6-post-Ubuntu-0ubuntu122.04, mixed mode, sharing)\n"
          ]
        }
      ]
    },
    {
      "cell_type": "code",
      "source": [
        "!wget https://downloads.apache.org/hadoop/common/hadoop-3.3.6/hadoop-3.3.6.tar.gz\n",
        "!tar -xzf hadoop-3.3.6.tar.gz"
      ],
      "metadata": {
        "colab": {
          "base_uri": "https://localhost:8080/"
        },
        "id": "rnmFYaC9GBY6",
        "outputId": "aa111d67-0631-42f1-909b-1aab81345bc5"
      },
      "execution_count": null,
      "outputs": [
        {
          "output_type": "stream",
          "name": "stdout",
          "text": [
            "--2025-07-10 06:48:53--  https://downloads.apache.org/hadoop/common/hadoop-3.3.6/hadoop-3.3.6.tar.gz\n",
            "Resolving downloads.apache.org (downloads.apache.org)... 135.181.214.104, 88.99.208.237, 2a01:4f8:10a:39da::2, ...\n",
            "Connecting to downloads.apache.org (downloads.apache.org)|135.181.214.104|:443... connected.\n",
            "HTTP request sent, awaiting response... 200 OK\n",
            "Length: 730107476 (696M) [application/x-gzip]\n",
            "Saving to: ‘hadoop-3.3.6.tar.gz.1’\n",
            "\n",
            "hadoop-3.3.6.tar.gz 100%[===================>] 696.28M  23.4MB/s    in 31s     \n",
            "\n",
            "2025-07-10 06:49:25 (22.6 MB/s) - ‘hadoop-3.3.6.tar.gz.1’ saved [730107476/730107476]\n",
            "\n"
          ]
        }
      ]
    },
    {
      "cell_type": "code",
      "source": [
        "%%writefile /content/hadoop-3.3.6/etc/hadoop/core-site.xml\n",
        "<configuration>\n",
        "  <property>\n",
        "    <name>fs.defaultFS</name>\n",
        "    <value>file:///</value>\n",
        "  </property>\n",
        "</configuration>\n"
      ],
      "metadata": {
        "colab": {
          "base_uri": "https://localhost:8080/"
        },
        "id": "cv8t9S72F6Py",
        "outputId": "792b3b7d-9d21-47b9-deff-88c704132ec3"
      },
      "execution_count": null,
      "outputs": [
        {
          "output_type": "stream",
          "name": "stdout",
          "text": [
            "Overwriting /content/hadoop-3.3.6/etc/hadoop/core-site.xml\n"
          ]
        }
      ]
    },
    {
      "cell_type": "code",
      "source": [
        "%%writefile /content/hadoop-3.3.6/etc/hadoop/hdfs-site.xml\n",
        "<configuration>\n",
        "  <property>\n",
        "    <name>dfs.replication</name>\n",
        "    <value>1</value>\n",
        "  </property>\n",
        "</configuration>\n"
      ],
      "metadata": {
        "colab": {
          "base_uri": "https://localhost:8080/"
        },
        "id": "d2sLCIs5Ge4L",
        "outputId": "0b03c2ba-735d-4cee-e463-01c5f0677566"
      },
      "execution_count": null,
      "outputs": [
        {
          "output_type": "stream",
          "name": "stdout",
          "text": [
            "Overwriting /content/hadoop-3.3.6/etc/hadoop/hdfs-site.xml\n"
          ]
        }
      ]
    },
    {
      "cell_type": "code",
      "source": [
        "!cp /content/hadoop-3.3.6/etc/hadoop/mapred-site.xml.template /content/hadoop-3.3.6/etc/hadoop/mapred-site.xml\n"
      ],
      "metadata": {
        "colab": {
          "base_uri": "https://localhost:8080/"
        },
        "id": "ZaAItWHqGlFD",
        "outputId": "4dee28b3-cf54-4b91-edbe-0931912f0512"
      },
      "execution_count": null,
      "outputs": [
        {
          "output_type": "stream",
          "name": "stdout",
          "text": [
            "cp: cannot stat '/content/hadoop-3.3.6/etc/hadoop/mapred-site.xml.template': No such file or directory\n"
          ]
        }
      ]
    },
    {
      "cell_type": "code",
      "source": [
        "%%writefile /content/hadoop-3.3.6/etc/hadoop/mapred-site.xml\n",
        "<configuration>\n",
        "  <property>\n",
        "    <name>mapreduce.framework.name</name>\n",
        "    <value>local</value>\n",
        "  </property>\n",
        "</configuration>\n"
      ],
      "metadata": {
        "colab": {
          "base_uri": "https://localhost:8080/"
        },
        "id": "XR7blhMPGn-6",
        "outputId": "ddc21ab5-f508-474c-a5a1-f0b614ffe96c"
      },
      "execution_count": null,
      "outputs": [
        {
          "output_type": "stream",
          "name": "stdout",
          "text": [
            "Overwriting /content/hadoop-3.3.6/etc/hadoop/mapred-site.xml\n"
          ]
        }
      ]
    },
    {
      "cell_type": "code",
      "source": [
        "%%writefile mapper.py\n",
        "#!/usr/bin/env python3\n",
        "import sys\n",
        "\n",
        "for line in sys.stdin:\n",
        "    line = line.strip().lower().replace(\".\", \" \")\n",
        "    for word in line.split():\n",
        "        print(f\"{word}\\t1\")\n"
      ],
      "metadata": {
        "colab": {
          "base_uri": "https://localhost:8080/"
        },
        "id": "u9kL_9b5Gqj6",
        "outputId": "a926e9ff-7e9f-4ad1-96e5-4b1b4cef58ad"
      },
      "execution_count": null,
      "outputs": [
        {
          "output_type": "stream",
          "name": "stdout",
          "text": [
            "Writing mapper.py\n"
          ]
        }
      ]
    },
    {
      "cell_type": "code",
      "source": [
        "%%writefile reducer.py\n",
        "#!/usr/bin/env python3\n",
        "import sys\n",
        "\n",
        "current_word = None\n",
        "current_count = 0\n",
        "\n",
        "for line in sys.stdin:\n",
        "    word, count = line.strip().split(\"\\t\")\n",
        "    try:\n",
        "        count = int(count)\n",
        "    except:\n",
        "        continue\n",
        "\n",
        "    if current_word == word:\n",
        "        current_count += count\n",
        "    else:\n",
        "        if current_word:\n",
        "            print(f\"{current_word}\\t{current_count}\")\n",
        "        current_word = word\n",
        "        current_count = count\n",
        "\n",
        "if current_word == word:\n",
        "    print(f\"{current_word}\\t{current_count}\")\n"
      ],
      "metadata": {
        "colab": {
          "base_uri": "https://localhost:8080/"
        },
        "id": "fdHcBJviGs1S",
        "outputId": "1c2c4ae3-2b56-4f7c-ce17-67fad880ce28"
      },
      "execution_count": null,
      "outputs": [
        {
          "output_type": "stream",
          "name": "stdout",
          "text": [
            "Writing reducer.py\n"
          ]
        }
      ]
    },
    {
      "cell_type": "code",
      "source": [
        "!chmod +x mapper.py reducer.py\n"
      ],
      "metadata": {
        "id": "5EROycI2GwA7"
      },
      "execution_count": null,
      "outputs": []
    },
    {
      "cell_type": "code",
      "source": [
        "%%writefile sample.txt\n",
        "Hello Hadoop. Hadoop is cool!\n",
        "This is a WordCount test.\n",
        "Hadoop uses MapReduce.\n",
        "MapReduce splits and reduces.\n"
      ],
      "metadata": {
        "colab": {
          "base_uri": "https://localhost:8080/"
        },
        "id": "84E7nAWDGx97",
        "outputId": "281cd8da-c60e-41c2-ab75-db3128808a46"
      },
      "execution_count": null,
      "outputs": [
        {
          "output_type": "stream",
          "name": "stdout",
          "text": [
            "Writing sample.txt\n"
          ]
        }
      ]
    },
    {
      "cell_type": "code",
      "source": [
        "!$HADOOP_HOME/share/hadoop/tools/lib/hadoop-streaming-3.3.6.jar\n"
      ],
      "metadata": {
        "colab": {
          "base_uri": "https://localhost:8080/"
        },
        "id": "Xz4MyDmLG2Sa",
        "outputId": "a5813cb4-a34e-4174-dce4-0761f52d2085"
      },
      "execution_count": null,
      "outputs": [
        {
          "output_type": "stream",
          "name": "stdout",
          "text": [
            "/bin/bash: line 1: /content/hadoop-3.3.6/share/hadoop/tools/lib/hadoop-streaming-3.3.6.jar: Permission denied\n"
          ]
        }
      ]
    },
    {
      "cell_type": "code",
      "source": [
        "!hadoop jar /content/hadoop-3.3.6/share/hadoop/tools/lib/hadoop-streaming-3.3.6.jar \\\n",
        " -input sample.txt \\\n",
        " -output output \\\n",
        " -mapper mapper.py \\\n",
        " -reducer reducer.py\n"
      ],
      "metadata": {
        "colab": {
          "base_uri": "https://localhost:8080/"
        },
        "id": "tGeR1VTlG4sj",
        "outputId": "e145d0c4-e7da-4bdb-f266-9d7b3b9f53de"
      },
      "execution_count": null,
      "outputs": [
        {
          "output_type": "stream",
          "name": "stdout",
          "text": [
            "WARNING: HADOOP_PREFIX has been replaced by HADOOP_HOME. Using value of HADOOP_PREFIX.\n",
            "2025-07-10 06:52:44,259 INFO impl.MetricsConfig: Loaded properties from hadoop-metrics2.properties\n",
            "2025-07-10 06:52:44,518 INFO impl.MetricsSystemImpl: Scheduled Metric snapshot period at 10 second(s).\n",
            "2025-07-10 06:52:44,518 INFO impl.MetricsSystemImpl: JobTracker metrics system started\n",
            "2025-07-10 06:52:44,544 WARN impl.MetricsSystemImpl: JobTracker metrics system already initialized!\n",
            "2025-07-10 06:52:44,926 INFO mapred.FileInputFormat: Total input files to process : 1\n",
            "2025-07-10 06:52:44,955 INFO mapreduce.JobSubmitter: number of splits:1\n",
            "2025-07-10 06:52:45,387 INFO mapreduce.JobSubmitter: Submitting tokens for job: job_local344997121_0001\n",
            "2025-07-10 06:52:45,387 INFO mapreduce.JobSubmitter: Executing with tokens: []\n",
            "2025-07-10 06:52:46,050 INFO mapreduce.Job: The url to track the job: http://localhost:8080/\n",
            "2025-07-10 06:52:46,064 INFO mapreduce.Job: Running job: job_local344997121_0001\n",
            "2025-07-10 06:52:46,064 INFO mapred.LocalJobRunner: OutputCommitter set in config null\n",
            "2025-07-10 06:52:46,068 INFO mapred.LocalJobRunner: OutputCommitter is org.apache.hadoop.mapred.FileOutputCommitter\n",
            "2025-07-10 06:52:46,096 INFO output.FileOutputCommitter: File Output Committer Algorithm version is 2\n",
            "2025-07-10 06:52:46,096 INFO output.FileOutputCommitter: FileOutputCommitter skip cleanup _temporary folders under output directory:false, ignore cleanup failures: false\n",
            "2025-07-10 06:52:46,261 INFO mapred.LocalJobRunner: Waiting for map tasks\n",
            "2025-07-10 06:52:46,274 INFO mapred.LocalJobRunner: Starting task: attempt_local344997121_0001_m_000000_0\n",
            "2025-07-10 06:52:46,414 INFO output.FileOutputCommitter: File Output Committer Algorithm version is 2\n",
            "2025-07-10 06:52:46,414 INFO output.FileOutputCommitter: FileOutputCommitter skip cleanup _temporary folders under output directory:false, ignore cleanup failures: false\n",
            "2025-07-10 06:52:46,455 INFO mapred.Task:  Using ResourceCalculatorProcessTree : [ ]\n",
            "2025-07-10 06:52:46,475 INFO mapred.MapTask: Processing split: file:/content/sample.txt:0+109\n",
            "2025-07-10 06:52:46,497 INFO mapred.MapTask: numReduceTasks: 1\n",
            "2025-07-10 06:52:46,579 INFO mapred.MapTask: (EQUATOR) 0 kvi 26214396(104857584)\n",
            "2025-07-10 06:52:46,579 INFO mapred.MapTask: mapreduce.task.io.sort.mb: 100\n",
            "2025-07-10 06:52:46,579 INFO mapred.MapTask: soft limit at 83886080\n",
            "2025-07-10 06:52:46,579 INFO mapred.MapTask: bufstart = 0; bufvoid = 104857600\n",
            "2025-07-10 06:52:46,579 INFO mapred.MapTask: kvstart = 26214396; length = 6553600\n",
            "2025-07-10 06:52:46,583 INFO mapred.MapTask: Map output collector class = org.apache.hadoop.mapred.MapTask$MapOutputBuffer\n",
            "2025-07-10 06:52:46,592 INFO streaming.PipeMapRed: PipeMapRed exec [/content/./mapper.py]\n",
            "2025-07-10 06:52:46,603 INFO Configuration.deprecation: mapred.work.output.dir is deprecated. Instead, use mapreduce.task.output.dir\n",
            "2025-07-10 06:52:46,606 INFO Configuration.deprecation: mapred.local.dir is deprecated. Instead, use mapreduce.cluster.local.dir\n",
            "2025-07-10 06:52:46,608 INFO Configuration.deprecation: map.input.file is deprecated. Instead, use mapreduce.map.input.file\n",
            "2025-07-10 06:52:46,608 INFO Configuration.deprecation: map.input.length is deprecated. Instead, use mapreduce.map.input.length\n",
            "2025-07-10 06:52:46,609 INFO Configuration.deprecation: mapred.job.id is deprecated. Instead, use mapreduce.job.id\n",
            "2025-07-10 06:52:46,609 INFO Configuration.deprecation: mapred.task.partition is deprecated. Instead, use mapreduce.task.partition\n",
            "2025-07-10 06:52:46,611 INFO Configuration.deprecation: map.input.start is deprecated. Instead, use mapreduce.map.input.start\n",
            "2025-07-10 06:52:46,611 INFO Configuration.deprecation: mapred.task.is.map is deprecated. Instead, use mapreduce.task.ismap\n",
            "2025-07-10 06:52:46,611 INFO Configuration.deprecation: mapred.task.id is deprecated. Instead, use mapreduce.task.attempt.id\n",
            "2025-07-10 06:52:46,612 INFO Configuration.deprecation: mapred.tip.id is deprecated. Instead, use mapreduce.task.id\n",
            "2025-07-10 06:52:46,613 INFO Configuration.deprecation: mapred.skip.on is deprecated. Instead, use mapreduce.job.skiprecords\n",
            "2025-07-10 06:52:46,613 INFO Configuration.deprecation: user.name is deprecated. Instead, use mapreduce.job.user.name\n",
            "2025-07-10 06:52:46,637 INFO streaming.PipeMapRed: R/W/S=1/0/0 in:NA [rec/s] out:NA [rec/s]\n",
            "2025-07-10 06:52:46,732 INFO streaming.PipeMapRed: Records R/W=4/1\n",
            "2025-07-10 06:52:46,741 INFO streaming.PipeMapRed: MRErrorThread done\n",
            "2025-07-10 06:52:46,742 INFO streaming.PipeMapRed: mapRedFinished\n",
            "2025-07-10 06:52:46,745 INFO mapred.LocalJobRunner: \n",
            "2025-07-10 06:52:46,745 INFO mapred.MapTask: Starting flush of map output\n",
            "2025-07-10 06:52:46,745 INFO mapred.MapTask: Spilling map output\n",
            "2025-07-10 06:52:46,745 INFO mapred.MapTask: bufstart = 0; bufend = 139; bufvoid = 104857600\n",
            "2025-07-10 06:52:46,745 INFO mapred.MapTask: kvstart = 26214396(104857584); kvend = 26214332(104857328); length = 65/6553600\n",
            "2025-07-10 06:52:46,755 INFO mapred.MapTask: Finished spill 0\n",
            "2025-07-10 06:52:46,772 INFO mapred.Task: Task:attempt_local344997121_0001_m_000000_0 is done. And is in the process of committing\n",
            "2025-07-10 06:52:46,776 INFO mapred.LocalJobRunner: Records R/W=4/1\n",
            "2025-07-10 06:52:46,776 INFO mapred.Task: Task 'attempt_local344997121_0001_m_000000_0' done.\n",
            "2025-07-10 06:52:46,786 INFO mapred.Task: Final Counters for attempt_local344997121_0001_m_000000_0: Counters: 17\n",
            "\tFile System Counters\n",
            "\t\tFILE: Number of bytes read=141506\n",
            "\t\tFILE: Number of bytes written=780212\n",
            "\t\tFILE: Number of read operations=0\n",
            "\t\tFILE: Number of large read operations=0\n",
            "\t\tFILE: Number of write operations=0\n",
            "\tMap-Reduce Framework\n",
            "\t\tMap input records=4\n",
            "\t\tMap output records=17\n",
            "\t\tMap output bytes=139\n",
            "\t\tMap output materialized bytes=179\n",
            "\t\tInput split bytes=76\n",
            "\t\tCombine input records=0\n",
            "\t\tSpilled Records=17\n",
            "\t\tFailed Shuffles=0\n",
            "\t\tMerged Map outputs=0\n",
            "\t\tGC time elapsed (ms)=0\n",
            "\t\tTotal committed heap usage (bytes)=326107136\n",
            "\tFile Input Format Counters \n",
            "\t\tBytes Read=109\n",
            "2025-07-10 06:52:46,786 INFO mapred.LocalJobRunner: Finishing task: attempt_local344997121_0001_m_000000_0\n",
            "2025-07-10 06:52:46,787 INFO mapred.LocalJobRunner: map task executor complete.\n",
            "2025-07-10 06:52:46,791 INFO mapred.LocalJobRunner: Waiting for reduce tasks\n",
            "2025-07-10 06:52:46,792 INFO mapred.LocalJobRunner: Starting task: attempt_local344997121_0001_r_000000_0\n",
            "2025-07-10 06:52:46,811 INFO output.FileOutputCommitter: File Output Committer Algorithm version is 2\n",
            "2025-07-10 06:52:46,811 INFO output.FileOutputCommitter: FileOutputCommitter skip cleanup _temporary folders under output directory:false, ignore cleanup failures: false\n",
            "2025-07-10 06:52:46,812 INFO mapred.Task:  Using ResourceCalculatorProcessTree : [ ]\n",
            "2025-07-10 06:52:46,816 INFO mapred.ReduceTask: Using ShuffleConsumerPlugin: org.apache.hadoop.mapreduce.task.reduce.Shuffle@51f22b46\n",
            "2025-07-10 06:52:46,818 WARN impl.MetricsSystemImpl: JobTracker metrics system already initialized!\n",
            "2025-07-10 06:52:46,844 INFO reduce.MergeManagerImpl: MergerManager: memoryLimit=2382574336, maxSingleShuffleLimit=595643584, mergeThreshold=1572499072, ioSortFactor=10, memToMemMergeOutputsThreshold=10\n",
            "2025-07-10 06:52:46,850 INFO reduce.EventFetcher: attempt_local344997121_0001_r_000000_0 Thread started: EventFetcher for fetching Map Completion Events\n",
            "2025-07-10 06:52:46,893 INFO reduce.LocalFetcher: localfetcher#1 about to shuffle output of map attempt_local344997121_0001_m_000000_0 decomp: 175 len: 179 to MEMORY\n",
            "2025-07-10 06:52:46,898 INFO reduce.InMemoryMapOutput: Read 175 bytes from map-output for attempt_local344997121_0001_m_000000_0\n",
            "2025-07-10 06:52:46,902 INFO reduce.MergeManagerImpl: closeInMemoryFile -> map-output of size: 175, inMemoryMapOutputs.size() -> 1, commitMemory -> 0, usedMemory ->175\n",
            "2025-07-10 06:52:46,907 INFO reduce.EventFetcher: EventFetcher is interrupted.. Returning\n",
            "2025-07-10 06:52:46,908 INFO mapred.LocalJobRunner: 1 / 1 copied.\n",
            "2025-07-10 06:52:46,908 INFO reduce.MergeManagerImpl: finalMerge called with 1 in-memory map-outputs and 0 on-disk map-outputs\n",
            "2025-07-10 06:52:46,921 INFO mapred.Merger: Merging 1 sorted segments\n",
            "2025-07-10 06:52:46,922 INFO mapred.Merger: Down to the last merge-pass, with 1 segments left of total size: 171 bytes\n",
            "2025-07-10 06:52:46,925 INFO reduce.MergeManagerImpl: Merged 1 segments, 175 bytes to disk to satisfy reduce memory limit\n",
            "2025-07-10 06:52:46,925 INFO reduce.MergeManagerImpl: Merging 1 files, 179 bytes from disk\n",
            "2025-07-10 06:52:46,926 INFO reduce.MergeManagerImpl: Merging 0 segments, 0 bytes from memory into reduce\n",
            "2025-07-10 06:52:46,926 INFO mapred.Merger: Merging 1 sorted segments\n",
            "2025-07-10 06:52:46,927 INFO mapred.Merger: Down to the last merge-pass, with 1 segments left of total size: 171 bytes\n",
            "2025-07-10 06:52:46,928 INFO mapred.LocalJobRunner: 1 / 1 copied.\n",
            "2025-07-10 06:52:46,933 INFO streaming.PipeMapRed: PipeMapRed exec [/content/./reducer.py]\n",
            "2025-07-10 06:52:46,937 INFO Configuration.deprecation: mapred.job.tracker is deprecated. Instead, use mapreduce.jobtracker.address\n",
            "2025-07-10 06:52:46,940 INFO Configuration.deprecation: mapred.map.tasks is deprecated. Instead, use mapreduce.job.maps\n",
            "2025-07-10 06:52:46,967 INFO streaming.PipeMapRed: R/W/S=1/0/0 in:NA [rec/s] out:NA [rec/s]\n",
            "2025-07-10 06:52:46,967 INFO streaming.PipeMapRed: R/W/S=10/0/0 in:NA [rec/s] out:NA [rec/s]\n",
            "2025-07-10 06:52:47,035 INFO streaming.PipeMapRed: Records R/W=17/1\n",
            "2025-07-10 06:52:47,050 INFO streaming.PipeMapRed: MRErrorThread done\n",
            "2025-07-10 06:52:47,051 INFO streaming.PipeMapRed: mapRedFinished\n",
            "2025-07-10 06:52:47,055 INFO mapred.Task: Task:attempt_local344997121_0001_r_000000_0 is done. And is in the process of committing\n",
            "2025-07-10 06:52:47,056 INFO mapred.LocalJobRunner: 1 / 1 copied.\n",
            "2025-07-10 06:52:47,057 INFO mapred.Task: Task attempt_local344997121_0001_r_000000_0 is allowed to commit now\n",
            "2025-07-10 06:52:47,062 INFO output.FileOutputCommitter: Saved output of task 'attempt_local344997121_0001_r_000000_0' to file:/content/output\n",
            "2025-07-10 06:52:47,065 INFO mapred.LocalJobRunner: Records R/W=17/1 > reduce\n",
            "2025-07-10 06:52:47,066 INFO mapred.Task: Task 'attempt_local344997121_0001_r_000000_0' done.\n",
            "2025-07-10 06:52:47,067 INFO mapred.Task: Final Counters for attempt_local344997121_0001_r_000000_0: Counters: 24\n",
            "\tFile System Counters\n",
            "\t\tFILE: Number of bytes read=141896\n",
            "\t\tFILE: Number of bytes written=780507\n",
            "\t\tFILE: Number of read operations=0\n",
            "\t\tFILE: Number of large read operations=0\n",
            "\t\tFILE: Number of write operations=0\n",
            "\tMap-Reduce Framework\n",
            "\t\tCombine input records=0\n",
            "\t\tCombine output records=0\n",
            "\t\tReduce input groups=13\n",
            "\t\tReduce shuffle bytes=179\n",
            "\t\tReduce input records=17\n",
            "\t\tReduce output records=13\n",
            "\t\tSpilled Records=17\n",
            "\t\tShuffled Maps =1\n",
            "\t\tFailed Shuffles=0\n",
            "\t\tMerged Map outputs=1\n",
            "\t\tGC time elapsed (ms)=0\n",
            "\t\tTotal committed heap usage (bytes)=326107136\n",
            "\tShuffle Errors\n",
            "\t\tBAD_ID=0\n",
            "\t\tCONNECTION=0\n",
            "\t\tIO_ERROR=0\n",
            "\t\tWRONG_LENGTH=0\n",
            "\t\tWRONG_MAP=0\n",
            "\t\tWRONG_REDUCE=0\n",
            "\tFile Output Format Counters \n",
            "\t\tBytes Written=116\n",
            "2025-07-10 06:52:47,071 INFO mapred.LocalJobRunner: Finishing task: attempt_local344997121_0001_r_000000_0\n",
            "2025-07-10 06:52:47,071 INFO mapred.LocalJobRunner: reduce task executor complete.\n",
            "2025-07-10 06:52:47,082 INFO mapreduce.Job: Job job_local344997121_0001 running in uber mode : false\n",
            "2025-07-10 06:52:47,083 INFO mapreduce.Job:  map 100% reduce 100%\n",
            "2025-07-10 06:52:47,085 INFO mapreduce.Job: Job job_local344997121_0001 completed successfully\n",
            "2025-07-10 06:52:47,106 INFO mapreduce.Job: Counters: 30\n",
            "\tFile System Counters\n",
            "\t\tFILE: Number of bytes read=283402\n",
            "\t\tFILE: Number of bytes written=1560719\n",
            "\t\tFILE: Number of read operations=0\n",
            "\t\tFILE: Number of large read operations=0\n",
            "\t\tFILE: Number of write operations=0\n",
            "\tMap-Reduce Framework\n",
            "\t\tMap input records=4\n",
            "\t\tMap output records=17\n",
            "\t\tMap output bytes=139\n",
            "\t\tMap output materialized bytes=179\n",
            "\t\tInput split bytes=76\n",
            "\t\tCombine input records=0\n",
            "\t\tCombine output records=0\n",
            "\t\tReduce input groups=13\n",
            "\t\tReduce shuffle bytes=179\n",
            "\t\tReduce input records=17\n",
            "\t\tReduce output records=13\n",
            "\t\tSpilled Records=34\n",
            "\t\tShuffled Maps =1\n",
            "\t\tFailed Shuffles=0\n",
            "\t\tMerged Map outputs=1\n",
            "\t\tGC time elapsed (ms)=0\n",
            "\t\tTotal committed heap usage (bytes)=652214272\n",
            "\tShuffle Errors\n",
            "\t\tBAD_ID=0\n",
            "\t\tCONNECTION=0\n",
            "\t\tIO_ERROR=0\n",
            "\t\tWRONG_LENGTH=0\n",
            "\t\tWRONG_MAP=0\n",
            "\t\tWRONG_REDUCE=0\n",
            "\tFile Input Format Counters \n",
            "\t\tBytes Read=109\n",
            "\tFile Output Format Counters \n",
            "\t\tBytes Written=116\n",
            "2025-07-10 06:52:47,107 INFO streaming.StreamJob: Output directory: output\n"
          ]
        }
      ]
    },
    {
      "cell_type": "code",
      "source": [
        "!cat output/part-00000\n"
      ],
      "metadata": {
        "id": "jYLhr0oqHAH6",
        "outputId": "1d6a40ce-02d1-4932-8024-f46a483558ff",
        "colab": {
          "base_uri": "https://localhost:8080/"
        }
      },
      "execution_count": null,
      "outputs": [
        {
          "output_type": "stream",
          "name": "stdout",
          "text": [
            "a\t1\n",
            "and\t1\n",
            "cool!\t1\n",
            "hadoop\t3\n",
            "hello\t1\n",
            "is\t2\n",
            "mapreduce\t2\n",
            "reduces\t1\n",
            "splits\t1\n",
            "test\t1\n",
            "this\t1\n",
            "uses\t1\n",
            "wordcount\t1\n"
          ]
        }
      ]
    }
  ]
}